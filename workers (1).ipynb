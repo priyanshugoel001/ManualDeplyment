{
 "cells": [
  {
   "cell_type": "code",
   "execution_count": 36,
   "metadata": {},
   "outputs": [
    {
     "ename": "AttributeError",
     "evalue": "'ZeebeWorker' object has no attribute 'subscribe'",
     "output_type": "error",
     "traceback": [
      "\u001b[0;31m---------------------------------------------------------------------------\u001b[0m",
      "\u001b[0;31mAttributeError\u001b[0m                            Traceback (most recent call last)",
      "Cell \u001b[0;32mIn[36], line 9\u001b[0m\n\u001b[1;32m      6\u001b[0m channel \u001b[39m=\u001b[39m create_insecure_channel()\n\u001b[1;32m      7\u001b[0m worker \u001b[39m=\u001b[39m ZeebeWorker(channel)\n\u001b[0;32m----> 9\u001b[0m worker\u001b[39m.\u001b[39;49msubscribe(\u001b[39m\"\u001b[39m\u001b[39mleave_escallate\u001b[39m\u001b[39m\"\u001b[39m)\n\u001b[1;32m     10\u001b[0m \u001b[39m# First Apply for leave.\u001b[39;00m\n\u001b[1;32m     11\u001b[0m \u001b[39m@worker\u001b[39m\u001b[39m.\u001b[39mtask(task_type\u001b[39m=\u001b[39m\u001b[39m\"\u001b[39m\u001b[39mleave_applied\u001b[39m\u001b[39m\"\u001b[39m)\n\u001b[1;32m     12\u001b[0m \u001b[39masync\u001b[39;00m \u001b[39mdef\u001b[39;00m \u001b[39mapply_for_leave\u001b[39m():\n",
      "\u001b[0;31mAttributeError\u001b[0m: 'ZeebeWorker' object has no attribute 'subscribe'"
     ]
    },
    {
     "name": "stdout",
     "output_type": "stream",
     "text": [
      "Leave doesn't escallate by the manager\n"
     ]
    }
   ],
   "source": [
    "from pyzeebe import create_insecure_channel, ZeebeWorker, Job\n",
    "import asyncio\n",
    "import nest_asyncio\n",
    "nest_asyncio.apply()\n",
    "\n",
    "channel = create_insecure_channel()\n",
    "worker = ZeebeWorker(channel)\n",
    "\n",
    "worker.subscribe(\"leave_escallate\")\n",
    "# First Apply for leave.\n",
    "@worker.task(task_type=\"leave_applied\")\n",
    "async def apply_for_leave():\n",
    "    print(\"Leave applied successfully, wait for Approval from manager as well as HR\")\n",
    "\n",
    "async def leave_escallate_handler(Job: Job):\n",
    "    print(\"Leave doesn't escallate by the manager\" + str(Job))\n",
    "\n",
    "# leave_applied_successfully\n",
    "@worker.task(task_type=\"leave_applied_successfully\")\n",
    "async def leave_applied_successfully(hr_approval:str, approve:str,Job: Job):\n",
    "    print(\"Leave applied successfully. Congrats!!\")\n",
    "    print(\"job Details are\" + str(Job))\n",
    "\n",
    "worker.add_task_handler(\"leave_escallate\",leave_escallate_handler)\n",
    "loop = asyncio.get_event_loop()\n",
    "loop.run_until_complete(worker.work())"
   ]
  },
  {
   "cell_type": "code",
   "execution_count": null,
   "metadata": {},
   "outputs": [],
   "source": []
  }
 ],
 "metadata": {
  "kernelspec": {
   "display_name": "demo_poc",
   "language": "python",
   "name": "python3"
  },
  "language_info": {
   "codemirror_mode": {
    "name": "ipython",
    "version": 3
   },
   "file_extension": ".py",
   "mimetype": "text/x-python",
   "name": "python",
   "nbconvert_exporter": "python",
   "pygments_lexer": "ipython3",
   "version": "3.11.4"
  },
  "orig_nbformat": 4
 },
 "nbformat": 4,
 "nbformat_minor": 2
}
