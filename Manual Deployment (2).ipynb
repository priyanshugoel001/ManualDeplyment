{
 "cells": [
  {
   "cell_type": "code",
   "execution_count": 86,
   "id": "912a9756",
   "metadata": {},
   "outputs": [],
   "source": [
    "from pyzeebe import ZeebeClient, create_insecure_channel, ZeebeWorker"
   ]
  },
  {
   "cell_type": "code",
   "execution_count": 87,
   "id": "5741a56b",
   "metadata": {},
   "outputs": [],
   "source": [
    "channel = create_insecure_channel()\n",
    "client = ZeebeClient(channel)\n",
    "worker = ZeebeWorker(channel)"
   ]
  },
  {
   "cell_type": "code",
   "execution_count": 88,
   "id": "fcdca3c4",
   "metadata": {},
   "outputs": [],
   "source": [
    "!export ZEEBE_ADDRESS=\"0.0.0.0:26500\"\n",
    "DIAGRAM_PATH=\"/Users/kmbl290859/Desktop/ManualDeployment/leave_apply_process.bpmn\"\n",
    "PROCESS_ID=\"leave-wf\""
   ]
  },
  {
   "cell_type": "code",
   "execution_count": 89,
   "id": "959ce5ad",
   "metadata": {},
   "outputs": [],
   "source": [
    "await client.deploy_process(DIAGRAM_PATH)"
   ]
  },
  {
   "cell_type": "code",
   "execution_count": 90,
   "id": "dbd9e163",
   "metadata": {},
   "outputs": [],
   "source": [
    "async def apply_leave():\n",
    "    process_instance_key = await client.run_process(PROCESS_ID)\n",
    "    return process_instance_key"
   ]
  },
  {
   "cell_type": "code",
   "execution_count": 91,
   "id": "4a39fab3",
   "metadata": {},
   "outputs": [
    {
     "name": "stdout",
     "output_type": "stream",
     "text": [
      "2251799813691164\n"
     ]
    }
   ],
   "source": [
    "process_instance_key = await apply_leave()\n",
    "print(process_instance_key)"
   ]
  }
 ],
 "metadata": {
  "kernelspec": {
   "display_name": "Python 3 (ipykernel)",
   "language": "python",
   "name": "python3"
  },
  "language_info": {
   "codemirror_mode": {
    "name": "ipython",
    "version": 3
   },
   "file_extension": ".py",
   "mimetype": "text/x-python",
   "name": "python",
   "nbconvert_exporter": "python",
   "pygments_lexer": "ipython3",
   "version": "3.11.4"
  }
 },
 "nbformat": 4,
 "nbformat_minor": 5
}
